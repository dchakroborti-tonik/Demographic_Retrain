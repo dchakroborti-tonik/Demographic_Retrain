{
 "cells": [
  {
   "cell_type": "code",
   "execution_count": 1,
   "id": "e1e6ca01",
   "metadata": {},
   "outputs": [],
   "source": [
    "import pandas as pd\n",
    "import numpy as np\n",
    "from sklearn.utils import Bunch\n",
    "import warnings\n",
    "warnings.filterwarnings(\"ignore\", category=DeprecationWarning)\n",
    "warnings.filterwarnings(\"ignore\", category=pd.core.generic.SettingWithCopyWarning)\n",
    "warnings.filterwarnings(\"ignore\")\n",
    "pd.set_option('display.max_rows', 500)\n",
    "pd.set_option('display.max_columns', 500)\n",
    "pd.set_option('display.width', 1000)"
   ]
  },
  {
   "cell_type": "code",
   "execution_count": 19,
   "id": "5b998bde",
   "metadata": {},
   "outputs": [],
   "source": [
    "df = pd.read_csv(r\"C:\\Users\\DwaipayanChakroborti\\OneDrive - Tonik Financial Pte Ltd\\MyStuff\\Biswa\\Demographic_Retrain\\Data\\Demographic_score_retrain_20240925_V1.csv\")"
   ]
  },
  {
   "cell_type": "code",
   "execution_count": 20,
   "id": "008a3e55",
   "metadata": {},
   "outputs": [
    {
     "data": {
      "text/plain": [
       "array(['SIL-Instore', 'Quick'], dtype=object)"
      ]
     },
     "execution_count": 20,
     "metadata": {},
     "output_type": "execute_result"
    }
   ],
   "source": [
    "df['new_loan_type'].unique()"
   ]
  },
  {
   "cell_type": "code",
   "execution_count": 21,
   "id": "f8d158a7",
   "metadata": {},
   "outputs": [],
   "source": [
    "df = df[df['new_loan_type'] == 'SIL-Instore']"
   ]
  },
  {
   "cell_type": "code",
   "execution_count": 22,
   "id": "befadd3c",
   "metadata": {},
   "outputs": [],
   "source": [
    "df['disbursementDateTime'] =  pd.to_datetime(df['disbursementDateTime'])\n",
    "\n",
    "df = df[(df['disbursementDateTime'] >= '2023-07-01') & (df['disbursementDateTime'] <= '2024-07-01')]"
   ]
  },
  {
   "cell_type": "code",
   "execution_count": 23,
   "id": "fab7bb63",
   "metadata": {},
   "outputs": [
    {
     "data": {
      "text/plain": [
       "70349"
      ]
     },
     "execution_count": 23,
     "metadata": {},
     "output_type": "execute_result"
    }
   ],
   "source": [
    "len(df)"
   ]
  },
  {
   "cell_type": "code",
   "execution_count": 6,
   "id": "c84a2d05",
   "metadata": {},
   "outputs": [],
   "source": [
    "df['termsAndConditionsSubmitDateTime'] = pd.to_datetime(df['termsAndConditionsSubmitDateTime'])\n",
    "df['tsa_onboarding_time'] = pd.to_datetime(df['tsa_onboarding_time'])\n",
    "\n",
    "# Create a new column with the difference in seconds\n",
    "df['tsa_time_Cashloan'] = (df['termsAndConditionsSubmitDateTime'] - df['tsa_onboarding_time']).dt.total_seconds()"
   ]
  },
  {
   "cell_type": "code",
   "execution_count": 7,
   "id": "cdad160a",
   "metadata": {},
   "outputs": [
    {
     "data": {
      "text/html": [
       "<div>\n",
       "<style scoped>\n",
       "    .dataframe tbody tr th:only-of-type {\n",
       "        vertical-align: middle;\n",
       "    }\n",
       "\n",
       "    .dataframe tbody tr th {\n",
       "        vertical-align: top;\n",
       "    }\n",
       "\n",
       "    .dataframe thead th {\n",
       "        text-align: right;\n",
       "    }\n",
       "</style>\n",
       "<table border=\"1\" class=\"dataframe\">\n",
       "  <thead>\n",
       "    <tr style=\"text-align: right;\">\n",
       "      <th></th>\n",
       "      <th>digitalLoanAccountId</th>\n",
       "      <th>loanAccountNumber</th>\n",
       "      <th>customerId</th>\n",
       "      <th>new_loan_type</th>\n",
       "      <th>startApplyDateTime</th>\n",
       "      <th>disbursementDateTime</th>\n",
       "      <th>termsAndConditionsSubmitDateTime</th>\n",
       "      <th>tsa_onboarding_time</th>\n",
       "      <th>FSPD30</th>\n",
       "      <th>credolabScore</th>\n",
       "      <th>credolabScore_bin_SIL</th>\n",
       "      <th>credolabScore_bin_Cashloan</th>\n",
       "      <th>monthlyIncome</th>\n",
       "      <th>monthlyIncomeBin_sil</th>\n",
       "      <th>monthlyIncomeBin_cashloan</th>\n",
       "      <th>mobileinitials</th>\n",
       "      <th>telco_name_bin</th>\n",
       "      <th>deviceversion</th>\n",
       "      <th>devicevrs_bin</th>\n",
       "      <th>tsa_time_bin_cashloan</th>\n",
       "      <th>tsa_time_bin_sil</th>\n",
       "      <th>loanRequestTenure</th>\n",
       "      <th>loanRequestTenureBin_sil</th>\n",
       "      <th>subIndustryDescription</th>\n",
       "      <th>subIndustryDescriptionbin_sil</th>\n",
       "      <th>tsa_time_Cashloan</th>\n",
       "    </tr>\n",
       "  </thead>\n",
       "  <tbody>\n",
       "    <tr>\n",
       "      <th>15185</th>\n",
       "      <td>7e6c8077-d1da-42c7-bdcf-7c85c1e68295</td>\n",
       "      <td>60825710150012</td>\n",
       "      <td>2571015</td>\n",
       "      <td>Quick</td>\n",
       "      <td>2024-06-12 08:03:59</td>\n",
       "      <td>2024-06-13 15:19:18</td>\n",
       "      <td>2024-06-13 14:14:05</td>\n",
       "      <td>2024-06-12 07:58:07</td>\n",
       "      <td>0</td>\n",
       "      <td>NaN</td>\n",
       "      <td>d. NULL</td>\n",
       "      <td>e. NULL</td>\n",
       "      <td>55500.0</td>\n",
       "      <td>d. 25650 - inf</td>\n",
       "      <td>d. 25650 - inf</td>\n",
       "      <td>761</td>\n",
       "      <td>d. Unknown Values</td>\n",
       "      <td>G4</td>\n",
       "      <td>ios16, ios17</td>\n",
       "      <td>c. &gt;= 0.285</td>\n",
       "      <td>d. &gt;0.985</td>\n",
       "      <td>6</td>\n",
       "      <td>b. [4.5, 7.5)</td>\n",
       "      <td>Call Centre / BPO</td>\n",
       "      <td>a. CallCenter/BPO</td>\n",
       "      <td>108958.0</td>\n",
       "    </tr>\n",
       "    <tr>\n",
       "      <th>15194</th>\n",
       "      <td>49e327ac-3b4e-4c13-b3c0-f1dcc398d0a5</td>\n",
       "      <td>60820542010014</td>\n",
       "      <td>2054201</td>\n",
       "      <td>Quick</td>\n",
       "      <td>2023-05-21 10:18:32</td>\n",
       "      <td>2023-05-22 17:20:54</td>\n",
       "      <td>2023-05-21 10:22:21</td>\n",
       "      <td>2023-05-21 01:38:09</td>\n",
       "      <td>1</td>\n",
       "      <td>NaN</td>\n",
       "      <td>d. NULL</td>\n",
       "      <td>e. NULL</td>\n",
       "      <td>25000.0</td>\n",
       "      <td>c. 24750 - 25650</td>\n",
       "      <td>c. 24750 - 25650</td>\n",
       "      <td>859</td>\n",
       "      <td>d. Unknown Values</td>\n",
       "      <td>G1</td>\n",
       "      <td>android10, android11, android6, android7, andr...</td>\n",
       "      <td>c. &gt;= 0.285</td>\n",
       "      <td>d. &gt;0.985</td>\n",
       "      <td>6</td>\n",
       "      <td>b. [4.5, 7.5)</td>\n",
       "      <td>Education / School / College / Online Coaching</td>\n",
       "      <td>b. e-CommerceConstructionHospitalTextile / Gar...</td>\n",
       "      <td>31452.0</td>\n",
       "    </tr>\n",
       "    <tr>\n",
       "      <th>15197</th>\n",
       "      <td>a53ea6d8-e33f-4d58-885b-a8a7d3bfbd0e</td>\n",
       "      <td>60822377230019</td>\n",
       "      <td>2237723</td>\n",
       "      <td>Quick</td>\n",
       "      <td>2023-09-17 22:04:19</td>\n",
       "      <td>2023-09-18 20:33:56</td>\n",
       "      <td>2023-09-17 22:07:34</td>\n",
       "      <td>2023-09-17 22:02:09</td>\n",
       "      <td>1</td>\n",
       "      <td>NaN</td>\n",
       "      <td>d. NULL</td>\n",
       "      <td>e. NULL</td>\n",
       "      <td>27500.0</td>\n",
       "      <td>d. 25650 - inf</td>\n",
       "      <td>d. 25650 - inf</td>\n",
       "      <td>909</td>\n",
       "      <td>c. Globe or TM</td>\n",
       "      <td>G4</td>\n",
       "      <td>ios16, ios17</td>\n",
       "      <td>a. 0 - 0.195</td>\n",
       "      <td>b. 0.085 - 0.165</td>\n",
       "      <td>6</td>\n",
       "      <td>b. [4.5, 7.5)</td>\n",
       "      <td>IT / Tech Consultancy / Projects / AI ML Solut...</td>\n",
       "      <td>b. e-CommerceConstructionHospitalTextile / Gar...</td>\n",
       "      <td>325.0</td>\n",
       "    </tr>\n",
       "    <tr>\n",
       "      <th>15200</th>\n",
       "      <td>79c27960-edad-47c8-b66d-f0bbb937e8d8</td>\n",
       "      <td>60826077770012</td>\n",
       "      <td>2607777</td>\n",
       "      <td>Quick</td>\n",
       "      <td>2024-06-25 10:26:38</td>\n",
       "      <td>2024-06-28 18:27:52</td>\n",
       "      <td>2024-06-25 10:36:19</td>\n",
       "      <td>2024-06-25 10:21:08</td>\n",
       "      <td>0</td>\n",
       "      <td>387.0</td>\n",
       "      <td>a. &lt;416.5</td>\n",
       "      <td>a. &lt;450.5</td>\n",
       "      <td>100000.0</td>\n",
       "      <td>d. 25650 - inf</td>\n",
       "      <td>d. 25650 - inf</td>\n",
       "      <td>609</td>\n",
       "      <td>d. Unknown Values</td>\n",
       "      <td>G3</td>\n",
       "      <td>android13, android14</td>\n",
       "      <td>b. 0.195 - 0.285</td>\n",
       "      <td>c. 0.165 - 0.985</td>\n",
       "      <td>6</td>\n",
       "      <td>b. [4.5, 7.5)</td>\n",
       "      <td>Banking</td>\n",
       "      <td>b. e-CommerceConstructionHospitalTextile / Gar...</td>\n",
       "      <td>911.0</td>\n",
       "    </tr>\n",
       "    <tr>\n",
       "      <th>15210</th>\n",
       "      <td>c74cc3dc-0ea0-430a-bfd5-116e7612f25d</td>\n",
       "      <td>60824727060011</td>\n",
       "      <td>2472706</td>\n",
       "      <td>Quick</td>\n",
       "      <td>2024-04-20 05:20:45</td>\n",
       "      <td>2024-04-20 16:33:55</td>\n",
       "      <td>2024-04-20 05:24:01</td>\n",
       "      <td>2024-04-20 05:18:05</td>\n",
       "      <td>0</td>\n",
       "      <td>NaN</td>\n",
       "      <td>d. NULL</td>\n",
       "      <td>e. NULL</td>\n",
       "      <td>45000.0</td>\n",
       "      <td>d. 25650 - inf</td>\n",
       "      <td>d. 25650 - inf</td>\n",
       "      <td>607</td>\n",
       "      <td>d. Unknown Values</td>\n",
       "      <td>G4</td>\n",
       "      <td>ios16, ios17</td>\n",
       "      <td>a. 0 - 0.195</td>\n",
       "      <td>b. 0.085 - 0.165</td>\n",
       "      <td>6</td>\n",
       "      <td>b. [4.5, 7.5)</td>\n",
       "      <td>Finance Company / Consumer Finance Company</td>\n",
       "      <td>b. e-CommerceConstructionHospitalTextile / Gar...</td>\n",
       "      <td>356.0</td>\n",
       "    </tr>\n",
       "  </tbody>\n",
       "</table>\n",
       "</div>"
      ],
      "text/plain": [
       "                       digitalLoanAccountId  loanAccountNumber  customerId new_loan_type   startApplyDateTime disbursementDateTime termsAndConditionsSubmitDateTime tsa_onboarding_time  FSPD30  credolabScore credolabScore_bin_SIL credolabScore_bin_Cashloan  monthlyIncome monthlyIncomeBin_sil monthlyIncomeBin_cashloan  mobileinitials     telco_name_bin deviceversion                                      devicevrs_bin tsa_time_bin_cashloan  tsa_time_bin_sil  loanRequestTenure loanRequestTenureBin_sil                             subIndustryDescription                      subIndustryDescriptionbin_sil  tsa_time_Cashloan\n",
       "15185  7e6c8077-d1da-42c7-bdcf-7c85c1e68295     60825710150012     2571015         Quick  2024-06-12 08:03:59  2024-06-13 15:19:18              2024-06-13 14:14:05 2024-06-12 07:58:07       0            NaN               d. NULL                    e. NULL        55500.0       d. 25650 - inf            d. 25650 - inf             761  d. Unknown Values            G4                                       ios16, ios17           c. >= 0.285         d. >0.985                  6            b. [4.5, 7.5)                                  Call Centre / BPO                                  a. CallCenter/BPO           108958.0\n",
       "15194  49e327ac-3b4e-4c13-b3c0-f1dcc398d0a5     60820542010014     2054201         Quick  2023-05-21 10:18:32  2023-05-22 17:20:54              2023-05-21 10:22:21 2023-05-21 01:38:09       1            NaN               d. NULL                    e. NULL        25000.0     c. 24750 - 25650          c. 24750 - 25650             859  d. Unknown Values            G1  android10, android11, android6, android7, andr...           c. >= 0.285         d. >0.985                  6            b. [4.5, 7.5)     Education / School / College / Online Coaching  b. e-CommerceConstructionHospitalTextile / Gar...            31452.0\n",
       "15197  a53ea6d8-e33f-4d58-885b-a8a7d3bfbd0e     60822377230019     2237723         Quick  2023-09-17 22:04:19  2023-09-18 20:33:56              2023-09-17 22:07:34 2023-09-17 22:02:09       1            NaN               d. NULL                    e. NULL        27500.0       d. 25650 - inf            d. 25650 - inf             909     c. Globe or TM            G4                                       ios16, ios17          a. 0 - 0.195  b. 0.085 - 0.165                  6            b. [4.5, 7.5)  IT / Tech Consultancy / Projects / AI ML Solut...  b. e-CommerceConstructionHospitalTextile / Gar...              325.0\n",
       "15200  79c27960-edad-47c8-b66d-f0bbb937e8d8     60826077770012     2607777         Quick  2024-06-25 10:26:38  2024-06-28 18:27:52              2024-06-25 10:36:19 2024-06-25 10:21:08       0          387.0             a. <416.5                  a. <450.5       100000.0       d. 25650 - inf            d. 25650 - inf             609  d. Unknown Values            G3                               android13, android14      b. 0.195 - 0.285  c. 0.165 - 0.985                  6            b. [4.5, 7.5)                                            Banking  b. e-CommerceConstructionHospitalTextile / Gar...              911.0\n",
       "15210  c74cc3dc-0ea0-430a-bfd5-116e7612f25d     60824727060011     2472706         Quick  2024-04-20 05:20:45  2024-04-20 16:33:55              2024-04-20 05:24:01 2024-04-20 05:18:05       0            NaN               d. NULL                    e. NULL        45000.0       d. 25650 - inf            d. 25650 - inf             607  d. Unknown Values            G4                                       ios16, ios17          a. 0 - 0.195  b. 0.085 - 0.165                  6            b. [4.5, 7.5)         Finance Company / Consumer Finance Company  b. e-CommerceConstructionHospitalTextile / Gar...              356.0"
      ]
     },
     "execution_count": 7,
     "metadata": {},
     "output_type": "execute_result"
    }
   ],
   "source": [
    "df.head()"
   ]
  },
  {
   "cell_type": "code",
   "execution_count": 8,
   "id": "b6986cfd",
   "metadata": {},
   "outputs": [
    {
     "data": {
      "text/plain": [
       "array(['G4', 'G1', 'G3', 'G2', 'G5'], dtype=object)"
      ]
     },
     "execution_count": 8,
     "metadata": {},
     "output_type": "execute_result"
    }
   ],
   "source": [
    "df['deviceversion'].unique()"
   ]
  },
  {
   "cell_type": "code",
   "execution_count": 9,
   "id": "46abd447",
   "metadata": {},
   "outputs": [
    {
     "data": {
      "text/plain": [
       "FSPD30\n",
       "0    19612\n",
       "1     4620\n",
       "Name: count, dtype: int64"
      ]
     },
     "execution_count": 9,
     "metadata": {},
     "output_type": "execute_result"
    }
   ],
   "source": [
    "df['FSPD30'].value_counts()"
   ]
  },
  {
   "cell_type": "code",
   "execution_count": 8,
   "id": "ad17cd1e",
   "metadata": {},
   "outputs": [
    {
     "name": "stdout",
     "output_type": "stream",
     "text": [
      "24232\n",
      "24232\n"
     ]
    }
   ],
   "source": [
    "print(len(df['digitalLoanAccountId']))\n",
    "print(df['digitalLoanAccountId'].nunique())"
   ]
  },
  {
   "cell_type": "code",
   "execution_count": 10,
   "id": "ecac9d87",
   "metadata": {},
   "outputs": [],
   "source": [
    "def add_woe_columns(df, target, binned_columns):\n",
    "    # Total events and non-events in the dataset\n",
    "    total_events = df[target].sum()\n",
    "    total_non_events = len(df) - total_events\n",
    "\n",
    "    # Loop through each binned column and calculate WOE\n",
    "    for col in binned_columns:\n",
    "        # Fill NaNs with 'Missing' for WOE calculation\n",
    "        df[col] = df[col].fillna('Missing')\n",
    "        \n",
    "        # Group by the binned column and calculate event and non-event counts\n",
    "        grouped = df.groupby(col)[target].agg(['sum', 'count'])\n",
    "        grouped.columns = ['bad', 'total']\n",
    "\n",
    "        # Calculate non-event counts for each bin\n",
    "        grouped['good'] = grouped['total'] - grouped['bad']\n",
    "\n",
    "        # Calculate event and non-event rates for each bin\n",
    "        grouped['event_rate'] = grouped['bad'] / total_events\n",
    "        grouped['non_event_rate'] = grouped['good'] / total_non_events\n",
    "\n",
    "        # Calculate WOE and avoid division by zero\n",
    "        grouped['WOE'] = np.log((grouped['good'] / total_non_events + 1e-10) / (grouped['bad'] / total_events + 1e-10))\n",
    "\n",
    "        # Create a mapping from the binned column to WOE values\n",
    "        woe_dict = grouped['WOE'].to_dict()\n",
    "\n",
    "        # Map WOE values back to the original DataFrame as a new column\n",
    "        df[f'{col}_WOE'] = df[col].map(woe_dict)\n",
    "    \n",
    "    return df"
   ]
  },
  {
   "cell_type": "code",
   "execution_count": 11,
   "id": "fb85268c",
   "metadata": {},
   "outputs": [],
   "source": [
    "feature_list =[\n",
    "             'credolabScore_bin_Cashloan',\n",
    "            'monthlyIncomeBin_cashloan',\n",
    "            'devicevrs_bin',\n",
    "            'tsa_time_bin_cashloan',\n",
    "                'telco_name_bin'\n",
    "            ]\n",
    "\n",
    "df_with_woe = add_woe_columns(df, target='FSPD30', binned_columns=feature_list)"
   ]
  },
  {
   "cell_type": "code",
   "execution_count": 14,
   "id": "a0737dc7",
   "metadata": {},
   "outputs": [
    {
     "data": {
      "text/html": [
       "<div>\n",
       "<style scoped>\n",
       "    .dataframe tbody tr th:only-of-type {\n",
       "        vertical-align: middle;\n",
       "    }\n",
       "\n",
       "    .dataframe tbody tr th {\n",
       "        vertical-align: top;\n",
       "    }\n",
       "\n",
       "    .dataframe thead th {\n",
       "        text-align: right;\n",
       "    }\n",
       "</style>\n",
       "<table border=\"1\" class=\"dataframe\">\n",
       "  <thead>\n",
       "    <tr style=\"text-align: right;\">\n",
       "      <th></th>\n",
       "      <th>monthlyIncomeBin_cashloan</th>\n",
       "      <th>monthlyIncomeBin_cashloan_WOE</th>\n",
       "    </tr>\n",
       "  </thead>\n",
       "  <tbody>\n",
       "    <tr>\n",
       "      <th>15185</th>\n",
       "      <td>d. 25650 - inf</td>\n",
       "      <td>0.086570</td>\n",
       "    </tr>\n",
       "    <tr>\n",
       "      <th>15194</th>\n",
       "      <td>c. 24750 - 25650</td>\n",
       "      <td>-0.181123</td>\n",
       "    </tr>\n",
       "    <tr>\n",
       "      <th>15289</th>\n",
       "      <td>b. 15830 - 24750</td>\n",
       "      <td>-0.126255</td>\n",
       "    </tr>\n",
       "    <tr>\n",
       "      <th>15679</th>\n",
       "      <td>a. 0 - 15830</td>\n",
       "      <td>-0.366417</td>\n",
       "    </tr>\n",
       "  </tbody>\n",
       "</table>\n",
       "</div>"
      ],
      "text/plain": [
       "      monthlyIncomeBin_cashloan  monthlyIncomeBin_cashloan_WOE\n",
       "15185            d. 25650 - inf                       0.086570\n",
       "15194          c. 24750 - 25650                      -0.181123\n",
       "15289          b. 15830 - 24750                      -0.126255\n",
       "15679              a. 0 - 15830                      -0.366417"
      ]
     },
     "execution_count": 14,
     "metadata": {},
     "output_type": "execute_result"
    }
   ],
   "source": [
    "df_with_woe[['monthlyIncomeBin_cashloan','monthlyIncomeBin_cashloan_WOE']].drop_duplicates()"
   ]
  },
  {
   "cell_type": "code",
   "execution_count": 16,
   "id": "b7d8c622",
   "metadata": {},
   "outputs": [
    {
     "data": {
      "text/plain": [
       "Timestamp('2024-06-29 21:59:49')"
      ]
     },
     "execution_count": 16,
     "metadata": {},
     "output_type": "execute_result"
    }
   ],
   "source": [
    "df_with_woe['disbursementDateTime'].max()"
   ]
  },
  {
   "cell_type": "code",
   "execution_count": 33,
   "id": "7e3eeba8",
   "metadata": {},
   "outputs": [
    {
     "data": {
      "text/plain": [
       "array(['d. Unknown Values', 'c. Globe or TM', 'b. Smart or Talk N Text',\n",
       "       'a. DITO, DITO or Globe or TM, DITO or Smart or Talk, Smart, Smart or TNT, Smart or Talk N Text, Sun Cellular, Unknown'],\n",
       "      dtype=object)"
      ]
     },
     "execution_count": 33,
     "metadata": {},
     "output_type": "execute_result"
    }
   ],
   "source": [
    "df_with_woe['telco_name_bin'].unique()"
   ]
  },
  {
   "cell_type": "code",
   "execution_count": 13,
   "id": "9471265b",
   "metadata": {},
   "outputs": [
    {
     "data": {
      "text/html": [
       "<div>\n",
       "<style scoped>\n",
       "    .dataframe tbody tr th:only-of-type {\n",
       "        vertical-align: middle;\n",
       "    }\n",
       "\n",
       "    .dataframe tbody tr th {\n",
       "        vertical-align: top;\n",
       "    }\n",
       "\n",
       "    .dataframe thead th {\n",
       "        text-align: right;\n",
       "    }\n",
       "</style>\n",
       "<table border=\"1\" class=\"dataframe\">\n",
       "  <thead>\n",
       "    <tr style=\"text-align: right;\">\n",
       "      <th></th>\n",
       "      <th>digitalLoanAccountId</th>\n",
       "      <th>loanAccountNumber</th>\n",
       "      <th>customerId</th>\n",
       "      <th>new_loan_type</th>\n",
       "      <th>startApplyDateTime</th>\n",
       "      <th>disbursementDateTime</th>\n",
       "      <th>termsAndConditionsSubmitDateTime</th>\n",
       "      <th>tsa_onboarding_time</th>\n",
       "      <th>FSPD30</th>\n",
       "      <th>credolabScore</th>\n",
       "      <th>credolabScore_bin_SIL</th>\n",
       "      <th>credolabScore_bin_Cashloan</th>\n",
       "      <th>monthlyIncome</th>\n",
       "      <th>monthlyIncomeBin_sil</th>\n",
       "      <th>monthlyIncomeBin_cashloan</th>\n",
       "      <th>mobileinitials</th>\n",
       "      <th>telco_name_bin</th>\n",
       "      <th>deviceversion</th>\n",
       "      <th>devicevrs_bin</th>\n",
       "      <th>tsa_time_bin_cashloan</th>\n",
       "      <th>tsa_time_bin_sil</th>\n",
       "      <th>loanRequestTenure</th>\n",
       "      <th>loanRequestTenureBin_sil</th>\n",
       "      <th>subIndustryDescription</th>\n",
       "      <th>subIndustryDescriptionbin_sil</th>\n",
       "      <th>tsa_time_Cashloan</th>\n",
       "      <th>credolabScore_bin_Cashloan_WOE</th>\n",
       "      <th>monthlyIncomeBin_cashloan_WOE</th>\n",
       "      <th>devicevrs_bin_WOE</th>\n",
       "      <th>tsa_time_bin_cashloan_WOE</th>\n",
       "      <th>telco_name_bin_WOE</th>\n",
       "    </tr>\n",
       "  </thead>\n",
       "  <tbody>\n",
       "    <tr>\n",
       "      <th>15185</th>\n",
       "      <td>7e6c8077-d1da-42c7-bdcf-7c85c1e68295</td>\n",
       "      <td>60825710150012</td>\n",
       "      <td>2571015</td>\n",
       "      <td>Quick</td>\n",
       "      <td>2024-06-12 08:03:59</td>\n",
       "      <td>2024-06-13 15:19:18</td>\n",
       "      <td>2024-06-13 14:14:05</td>\n",
       "      <td>2024-06-12 07:58:07</td>\n",
       "      <td>0</td>\n",
       "      <td>NaN</td>\n",
       "      <td>d. NULL</td>\n",
       "      <td>e. NULL</td>\n",
       "      <td>55500.0</td>\n",
       "      <td>d. 25650 - inf</td>\n",
       "      <td>d. 25650 - inf</td>\n",
       "      <td>761</td>\n",
       "      <td>d. Unknown Values</td>\n",
       "      <td>G4</td>\n",
       "      <td>ios16, ios17</td>\n",
       "      <td>c. &gt;= 0.285</td>\n",
       "      <td>d. &gt;0.985</td>\n",
       "      <td>6</td>\n",
       "      <td>b. [4.5, 7.5)</td>\n",
       "      <td>Call Centre / BPO</td>\n",
       "      <td>a. CallCenter/BPO</td>\n",
       "      <td>108958.0</td>\n",
       "      <td>0.136827</td>\n",
       "      <td>0.086570</td>\n",
       "      <td>0.307898</td>\n",
       "      <td>0.125524</td>\n",
       "      <td>0.002736</td>\n",
       "    </tr>\n",
       "    <tr>\n",
       "      <th>15194</th>\n",
       "      <td>49e327ac-3b4e-4c13-b3c0-f1dcc398d0a5</td>\n",
       "      <td>60820542010014</td>\n",
       "      <td>2054201</td>\n",
       "      <td>Quick</td>\n",
       "      <td>2023-05-21 10:18:32</td>\n",
       "      <td>2023-05-22 17:20:54</td>\n",
       "      <td>2023-05-21 10:22:21</td>\n",
       "      <td>2023-05-21 01:38:09</td>\n",
       "      <td>1</td>\n",
       "      <td>NaN</td>\n",
       "      <td>d. NULL</td>\n",
       "      <td>e. NULL</td>\n",
       "      <td>25000.0</td>\n",
       "      <td>c. 24750 - 25650</td>\n",
       "      <td>c. 24750 - 25650</td>\n",
       "      <td>859</td>\n",
       "      <td>d. Unknown Values</td>\n",
       "      <td>G1</td>\n",
       "      <td>android10, android11, android6, android7, andr...</td>\n",
       "      <td>c. &gt;= 0.285</td>\n",
       "      <td>d. &gt;0.985</td>\n",
       "      <td>6</td>\n",
       "      <td>b. [4.5, 7.5)</td>\n",
       "      <td>Education / School / College / Online Coaching</td>\n",
       "      <td>b. e-CommerceConstructionHospitalTextile / Gar...</td>\n",
       "      <td>31452.0</td>\n",
       "      <td>0.136827</td>\n",
       "      <td>-0.181123</td>\n",
       "      <td>-0.408727</td>\n",
       "      <td>0.125524</td>\n",
       "      <td>0.002736</td>\n",
       "    </tr>\n",
       "    <tr>\n",
       "      <th>15197</th>\n",
       "      <td>a53ea6d8-e33f-4d58-885b-a8a7d3bfbd0e</td>\n",
       "      <td>60822377230019</td>\n",
       "      <td>2237723</td>\n",
       "      <td>Quick</td>\n",
       "      <td>2023-09-17 22:04:19</td>\n",
       "      <td>2023-09-18 20:33:56</td>\n",
       "      <td>2023-09-17 22:07:34</td>\n",
       "      <td>2023-09-17 22:02:09</td>\n",
       "      <td>1</td>\n",
       "      <td>NaN</td>\n",
       "      <td>d. NULL</td>\n",
       "      <td>e. NULL</td>\n",
       "      <td>27500.0</td>\n",
       "      <td>d. 25650 - inf</td>\n",
       "      <td>d. 25650 - inf</td>\n",
       "      <td>909</td>\n",
       "      <td>c. Globe or TM</td>\n",
       "      <td>G4</td>\n",
       "      <td>ios16, ios17</td>\n",
       "      <td>a. 0 - 0.195</td>\n",
       "      <td>b. 0.085 - 0.165</td>\n",
       "      <td>6</td>\n",
       "      <td>b. [4.5, 7.5)</td>\n",
       "      <td>IT / Tech Consultancy / Projects / AI ML Solut...</td>\n",
       "      <td>b. e-CommerceConstructionHospitalTextile / Gar...</td>\n",
       "      <td>325.0</td>\n",
       "      <td>0.136827</td>\n",
       "      <td>0.086570</td>\n",
       "      <td>0.307898</td>\n",
       "      <td>-0.314919</td>\n",
       "      <td>0.194132</td>\n",
       "    </tr>\n",
       "    <tr>\n",
       "      <th>15200</th>\n",
       "      <td>79c27960-edad-47c8-b66d-f0bbb937e8d8</td>\n",
       "      <td>60826077770012</td>\n",
       "      <td>2607777</td>\n",
       "      <td>Quick</td>\n",
       "      <td>2024-06-25 10:26:38</td>\n",
       "      <td>2024-06-28 18:27:52</td>\n",
       "      <td>2024-06-25 10:36:19</td>\n",
       "      <td>2024-06-25 10:21:08</td>\n",
       "      <td>0</td>\n",
       "      <td>387.0</td>\n",
       "      <td>a. &lt;416.5</td>\n",
       "      <td>a. &lt;450.5</td>\n",
       "      <td>100000.0</td>\n",
       "      <td>d. 25650 - inf</td>\n",
       "      <td>d. 25650 - inf</td>\n",
       "      <td>609</td>\n",
       "      <td>d. Unknown Values</td>\n",
       "      <td>G3</td>\n",
       "      <td>android13, android14</td>\n",
       "      <td>b. 0.195 - 0.285</td>\n",
       "      <td>c. 0.165 - 0.985</td>\n",
       "      <td>6</td>\n",
       "      <td>b. [4.5, 7.5)</td>\n",
       "      <td>Banking</td>\n",
       "      <td>b. e-CommerceConstructionHospitalTextile / Gar...</td>\n",
       "      <td>911.0</td>\n",
       "      <td>-0.515272</td>\n",
       "      <td>0.086570</td>\n",
       "      <td>0.266003</td>\n",
       "      <td>-0.127963</td>\n",
       "      <td>0.002736</td>\n",
       "    </tr>\n",
       "    <tr>\n",
       "      <th>15210</th>\n",
       "      <td>c74cc3dc-0ea0-430a-bfd5-116e7612f25d</td>\n",
       "      <td>60824727060011</td>\n",
       "      <td>2472706</td>\n",
       "      <td>Quick</td>\n",
       "      <td>2024-04-20 05:20:45</td>\n",
       "      <td>2024-04-20 16:33:55</td>\n",
       "      <td>2024-04-20 05:24:01</td>\n",
       "      <td>2024-04-20 05:18:05</td>\n",
       "      <td>0</td>\n",
       "      <td>NaN</td>\n",
       "      <td>d. NULL</td>\n",
       "      <td>e. NULL</td>\n",
       "      <td>45000.0</td>\n",
       "      <td>d. 25650 - inf</td>\n",
       "      <td>d. 25650 - inf</td>\n",
       "      <td>607</td>\n",
       "      <td>d. Unknown Values</td>\n",
       "      <td>G4</td>\n",
       "      <td>ios16, ios17</td>\n",
       "      <td>a. 0 - 0.195</td>\n",
       "      <td>b. 0.085 - 0.165</td>\n",
       "      <td>6</td>\n",
       "      <td>b. [4.5, 7.5)</td>\n",
       "      <td>Finance Company / Consumer Finance Company</td>\n",
       "      <td>b. e-CommerceConstructionHospitalTextile / Gar...</td>\n",
       "      <td>356.0</td>\n",
       "      <td>0.136827</td>\n",
       "      <td>0.086570</td>\n",
       "      <td>0.307898</td>\n",
       "      <td>-0.314919</td>\n",
       "      <td>0.002736</td>\n",
       "    </tr>\n",
       "  </tbody>\n",
       "</table>\n",
       "</div>"
      ],
      "text/plain": [
       "                       digitalLoanAccountId  loanAccountNumber  customerId new_loan_type   startApplyDateTime disbursementDateTime termsAndConditionsSubmitDateTime tsa_onboarding_time  FSPD30  credolabScore credolabScore_bin_SIL credolabScore_bin_Cashloan  monthlyIncome monthlyIncomeBin_sil monthlyIncomeBin_cashloan  mobileinitials     telco_name_bin deviceversion                                      devicevrs_bin tsa_time_bin_cashloan  tsa_time_bin_sil  loanRequestTenure loanRequestTenureBin_sil                             subIndustryDescription                      subIndustryDescriptionbin_sil  tsa_time_Cashloan  credolabScore_bin_Cashloan_WOE  monthlyIncomeBin_cashloan_WOE  devicevrs_bin_WOE  tsa_time_bin_cashloan_WOE  telco_name_bin_WOE\n",
       "15185  7e6c8077-d1da-42c7-bdcf-7c85c1e68295     60825710150012     2571015         Quick  2024-06-12 08:03:59  2024-06-13 15:19:18              2024-06-13 14:14:05 2024-06-12 07:58:07       0            NaN               d. NULL                    e. NULL        55500.0       d. 25650 - inf            d. 25650 - inf             761  d. Unknown Values            G4                                       ios16, ios17           c. >= 0.285         d. >0.985                  6            b. [4.5, 7.5)                                  Call Centre / BPO                                  a. CallCenter/BPO           108958.0                        0.136827                       0.086570           0.307898                   0.125524            0.002736\n",
       "15194  49e327ac-3b4e-4c13-b3c0-f1dcc398d0a5     60820542010014     2054201         Quick  2023-05-21 10:18:32  2023-05-22 17:20:54              2023-05-21 10:22:21 2023-05-21 01:38:09       1            NaN               d. NULL                    e. NULL        25000.0     c. 24750 - 25650          c. 24750 - 25650             859  d. Unknown Values            G1  android10, android11, android6, android7, andr...           c. >= 0.285         d. >0.985                  6            b. [4.5, 7.5)     Education / School / College / Online Coaching  b. e-CommerceConstructionHospitalTextile / Gar...            31452.0                        0.136827                      -0.181123          -0.408727                   0.125524            0.002736\n",
       "15197  a53ea6d8-e33f-4d58-885b-a8a7d3bfbd0e     60822377230019     2237723         Quick  2023-09-17 22:04:19  2023-09-18 20:33:56              2023-09-17 22:07:34 2023-09-17 22:02:09       1            NaN               d. NULL                    e. NULL        27500.0       d. 25650 - inf            d. 25650 - inf             909     c. Globe or TM            G4                                       ios16, ios17          a. 0 - 0.195  b. 0.085 - 0.165                  6            b. [4.5, 7.5)  IT / Tech Consultancy / Projects / AI ML Solut...  b. e-CommerceConstructionHospitalTextile / Gar...              325.0                        0.136827                       0.086570           0.307898                  -0.314919            0.194132\n",
       "15200  79c27960-edad-47c8-b66d-f0bbb937e8d8     60826077770012     2607777         Quick  2024-06-25 10:26:38  2024-06-28 18:27:52              2024-06-25 10:36:19 2024-06-25 10:21:08       0          387.0             a. <416.5                  a. <450.5       100000.0       d. 25650 - inf            d. 25650 - inf             609  d. Unknown Values            G3                               android13, android14      b. 0.195 - 0.285  c. 0.165 - 0.985                  6            b. [4.5, 7.5)                                            Banking  b. e-CommerceConstructionHospitalTextile / Gar...              911.0                       -0.515272                       0.086570           0.266003                  -0.127963            0.002736\n",
       "15210  c74cc3dc-0ea0-430a-bfd5-116e7612f25d     60824727060011     2472706         Quick  2024-04-20 05:20:45  2024-04-20 16:33:55              2024-04-20 05:24:01 2024-04-20 05:18:05       0            NaN               d. NULL                    e. NULL        45000.0       d. 25650 - inf            d. 25650 - inf             607  d. Unknown Values            G4                                       ios16, ios17          a. 0 - 0.195  b. 0.085 - 0.165                  6            b. [4.5, 7.5)         Finance Company / Consumer Finance Company  b. e-CommerceConstructionHospitalTextile / Gar...              356.0                        0.136827                       0.086570           0.307898                  -0.314919            0.002736"
      ]
     },
     "execution_count": 13,
     "metadata": {},
     "output_type": "execute_result"
    }
   ],
   "source": [
    "df_with_woe.head()"
   ]
  },
  {
   "cell_type": "code",
   "execution_count": 14,
   "id": "28b2c408",
   "metadata": {},
   "outputs": [
    {
     "data": {
      "text/plain": [
       "Timestamp('2023-01-07 04:56:30')"
      ]
     },
     "execution_count": 14,
     "metadata": {},
     "output_type": "execute_result"
    }
   ],
   "source": [
    "df_with_woe['disbursementDateTime'].min()"
   ]
  },
  {
   "cell_type": "code",
   "execution_count": 15,
   "id": "1bb4a97c",
   "metadata": {},
   "outputs": [
    {
     "data": {
      "text/plain": [
       "Timestamp('2024-06-29 21:59:49')"
      ]
     },
     "execution_count": 15,
     "metadata": {},
     "output_type": "execute_result"
    }
   ],
   "source": [
    "df_with_woe['disbursementDateTime'].max()"
   ]
  },
  {
   "cell_type": "markdown",
   "id": "8086a26e",
   "metadata": {},
   "source": [
    "## Train Eval Test"
   ]
  },
  {
   "cell_type": "code",
   "execution_count": 16,
   "id": "1d3c10f2",
   "metadata": {},
   "outputs": [],
   "source": [
    "feature_list_WOE=[\n",
    "    'FSPD30',\n",
    "      'credolabScore_bin_Cashloan_WOE',\n",
    "        'monthlyIncomeBin_cashloan_WOE',\n",
    "        'devicevrs_bin_WOE',\n",
    "        'tsa_time_bin_cashloan_WOE',\n",
    "            'telco_name_bin_WOE'\n",
    "]\n",
    "                \n"
   ]
  },
  {
   "cell_type": "code",
   "execution_count": 17,
   "id": "8c11f749",
   "metadata": {},
   "outputs": [],
   "source": [
    "df_train_test = df_with_woe.loc[:, df_with_woe.columns.isin(feature_list_WOE)]"
   ]
  },
  {
   "cell_type": "code",
   "execution_count": 18,
   "id": "2e171f7a",
   "metadata": {},
   "outputs": [],
   "source": [
    "# Features and target variable\n",
    "X =  df_train_test.drop(columns=['FSPD30'])\n",
    "y = df_train_test['FSPD30']\n",
    "\n",
    "\n",
    "from sklearn.model_selection import train_test_split\n",
    "\n",
    " \n",
    "X_train, X_test, y_train, y_test = train_test_split(X, y, test_size=0.10, random_state=42)"
   ]
  },
  {
   "cell_type": "markdown",
   "id": "d9e5222f",
   "metadata": {},
   "source": [
    "# LogReg"
   ]
  },
  {
   "cell_type": "code",
   "execution_count": 19,
   "id": "26260aba",
   "metadata": {},
   "outputs": [],
   "source": [
    "from sklearn.linear_model import LogisticRegression\n",
    "from sklearn.preprocessing import OneHotEncoder\n",
    "from sklearn.compose import ColumnTransformer\n",
    "from sklearn.pipeline import Pipeline\n",
    "from sklearn.metrics import roc_auc_score\n",
    "from sklearn.feature_selection import RFE\n",
    "from sklearn.preprocessing import StandardScaler"
   ]
  },
  {
   "cell_type": "code",
   "execution_count": 20,
   "id": "b4dfa1ac",
   "metadata": {},
   "outputs": [
    {
     "name": "stdout",
     "output_type": "stream",
     "text": [
      "Train Gini: 0.23317630717504945\n",
      "Test Gini: 0.2658850138868101\n"
     ]
    }
   ],
   "source": [
    "def gini(y_true, y_prob):\n",
    "    return 2 * roc_auc_score(y_true, y_prob) - 1\n",
    "\n",
    "# Instantiate logistic regression model\n",
    "model = LogisticRegression()\n",
    "\n",
    "# Train the model\n",
    "model.fit(X_train, y_train)\n",
    "\n",
    "# Predict probabilities for train and test sets\n",
    "train_preds = model.predict_proba(X_train)[:, 1]\n",
    "test_preds = model.predict_proba(X_test)[:, 1]\n",
    "\n",
    "# Calculate Gini coefficients\n",
    "gini_train = gini(y_train, train_preds)\n",
    "gini_test = gini(y_test, test_preds)\n",
    "\n",
    "# Output Gini coefficients\n",
    "print('Train Gini:', gini_train)\n",
    "print('Test Gini:', gini_test)"
   ]
  },
  {
   "cell_type": "markdown",
   "id": "dd6dce66",
   "metadata": {},
   "source": [
    "# Co efficients"
   ]
  },
  {
   "cell_type": "code",
   "execution_count": 21,
   "id": "94842d44",
   "metadata": {},
   "outputs": [
    {
     "name": "stdout",
     "output_type": "stream",
     "text": [
      "                          Feature  Coefficient\n",
      "0                       Intercept    -1.444908\n",
      "1  credolabScore_bin_Cashloan_WOE    -0.598524\n",
      "2   monthlyIncomeBin_cashloan_WOE    -0.735178\n",
      "3               devicevrs_bin_WOE    -0.946276\n",
      "4       tsa_time_bin_cashloan_WOE    -1.056970\n",
      "5              telco_name_bin_WOE    -0.715411\n"
     ]
    }
   ],
   "source": [
    "# Get the coefficients directly from the logistic regression model\n",
    "coefficients = model.coef_[0]\n",
    "\n",
    "# Get the intercept\n",
    "intercept = model.intercept_[0]\n",
    "\n",
    "# Combine feature names with coefficients\n",
    "feature_names = X_train.columns\n",
    "\n",
    "# Create a DataFrame to display the coefficients\n",
    "coef_df = pd.DataFrame({\n",
    "    'Feature': feature_names,\n",
    "    'Coefficient': coefficients\n",
    "})\n",
    "\n",
    "# Add the intercept as a separate row\n",
    "intercept_row = pd.DataFrame({'Feature': ['Intercept'], 'Coefficient': [intercept]})\n",
    "coef_df = pd.concat([intercept_row, coef_df], ignore_index=True)\n",
    "\n",
    "# Display the DataFrame\n",
    "print(coef_df)\n"
   ]
  },
  {
   "cell_type": "markdown",
   "id": "2c546e44",
   "metadata": {},
   "source": [
    "## Monthly Default Rate"
   ]
  },
  {
   "cell_type": "code",
   "execution_count": 23,
   "id": "2dd7df2f",
   "metadata": {},
   "outputs": [
    {
     "data": {
      "image/png": "[encoded data removed]",
      "text/plain": [
       "<Figure size 1000x600 with 1 Axes>"
      ]
     },
     "metadata": {},
     "output_type": "display_data"
    }
   ],
   "source": [
    "df1 =df\n",
    "import matplotlib.pyplot as plt\n",
    "\n",
    "df1['disbursementDateTime'] = pd.to_datetime(df1['disbursementDateTime'])\n",
    "\n",
    "# Extract year-month in 'YYYY-MM' format for grouping\n",
    "df1['year_month'] =df1['disbursementDateTime'].dt.to_period('M').astype(str)\n",
    "\n",
    "# Calculate monthly default rate\n",
    "monthly_default_rate = df1.groupby('year_month')['FSPD30'].mean().reset_index()\n",
    "monthly_default_rate['default_rate'] = monthly_default_rate['FSPD30'] * 100  # Convert to percentage\n",
    "\n",
    "# Plot the line chart\n",
    "plt.figure(figsize=(10, 6))\n",
    "plt.plot(monthly_default_rate['year_month'], monthly_default_rate['default_rate'], marker='o', color='b')\n",
    "plt.title('Monthly Default Rate')\n",
    "plt.xlabel('Year-Month')\n",
    "plt.ylabel('Default Rate (%)')\n",
    "plt.grid(True)\n",
    "plt.xticks(rotation=45)\n",
    "plt.tight_layout()\n",
    "plt.show()"
   ]
  },
  {
   "cell_type": "code",
   "execution_count": null,
   "id": "47932190",
   "metadata": {},
   "outputs": [],
   "source": []
  },
  {
   "cell_type": "markdown",
   "id": "128cd282",
   "metadata": {},
   "source": [
    "## K fold"
   ]
  },
  {
   "cell_type": "code",
   "execution_count": 23,
   "id": "5b315c34",
   "metadata": {},
   "outputs": [],
   "source": [
    "X =  df_train_test.drop(columns=['FSPD30'])\n",
    "y = df_train_test['FSPD30']"
   ]
  },
  {
   "cell_type": "code",
   "execution_count": 24,
   "id": "a7fb0046",
   "metadata": {},
   "outputs": [
    {
     "name": "stdout",
     "output_type": "stream",
     "text": [
      "Average Train Gini: 0.2364\n",
      "Average Test Gini: 0.2341\n"
     ]
    }
   ],
   "source": [
    "from sklearn.model_selection import KFold\n",
    "\n",
    "# Function to calculate Gini coefficient\n",
    "def gini(y_true, y_prob):\n",
    "    return 2 * roc_auc_score(y_true, y_prob) - 1\n",
    "\n",
    "# Initialize logistic regression model\n",
    "model = LogisticRegression()\n",
    "\n",
    "# Initialize KFold cross-validation\n",
    "kf = KFold(n_splits=10, shuffle=True, random_state=42)\n",
    "\n",
    "# Lists to store Gini coefficients\n",
    "train_gini_scores = []\n",
    "test_gini_scores = []\n",
    "feature_coefficients = []\n",
    "intercepts=[]\n",
    "\n",
    "# Dictionaries to store true labels and predicted probabilities across all folds\n",
    "all_y_test_pred = {}\n",
    "\n",
    "# Feature names\n",
    "feature_names = X.columns\n",
    "\n",
    "# Perform 10-fold cross-validation\n",
    "for fold, (train_index, test_index) in enumerate(kf.split(X), start=1):\n",
    "    X_train, X_test = X.iloc[train_index], X.iloc[test_index]\n",
    "    y_train, y_test = y.iloc[train_index], y.iloc[test_index]\n",
    "    \n",
    "    # Fit the model\n",
    "    model.fit(X_train, y_train)\n",
    "    \n",
    "    # Predict probabilities for training and test sets\n",
    "    y_train_pred = model.predict_proba(X_train)[:, 1]\n",
    "    y_test_pred = model.predict_proba(X_test)[:, 1]\n",
    "    \n",
    "    # Calculate Gini coefficients for training and test sets\n",
    "    train_gini = gini(y_train, y_train_pred)\n",
    "    test_gini = gini(y_test, y_test_pred)\n",
    "    \n",
    "    # Append Gini coefficients to their respective lists\n",
    "    train_gini_scores.append(train_gini)\n",
    "    test_gini_scores.append(test_gini)\n",
    "    \n",
    "    # Store predictions for the test set using test indices as keys\n",
    "    for idx, pred in zip(test_index, y_test_pred):\n",
    "        if idx not in all_y_test_pred:\n",
    "            all_y_test_pred[idx] = []\n",
    "        all_y_test_pred[idx].append(pred)\n",
    "\n",
    "        \n",
    "        \n",
    "      # Store feature coefficients and intercept\n",
    "    fold_feature_coefficients = model.coef_.flatten()\n",
    "    fold_intercept = model.intercept_[0]\n",
    "    feature_coefficients.append(fold_feature_coefficients)\n",
    "    intercepts.append(fold_intercept)\n",
    "    \n",
    "    # Create DataFrame for the current fold's coefficients and intercept\n",
    "    coeff_df = pd.DataFrame({\n",
    "        'Feature': feature_names.tolist() + ['Intercept'],\n",
    "        'Coefficient': list(fold_feature_coefficients) + [fold_intercept]\n",
    "    })\n",
    "    \n",
    "#     # Print coefficients and intercept for the current fold\n",
    "#     print(f\"Fold {fold}:\")\n",
    "#     print(coeff_df)\n",
    "#     print('-' * 40)\n",
    "    \n",
    "    \n",
    "# Calculate the average predictions for each observation\n",
    "average_predictions = np.array([np.mean(all_y_test_pred[idx]) for idx in sorted(all_y_test_pred.keys())])\n",
    "average_y_test = np.array([y.iloc[idx] for idx in sorted(all_y_test_pred.keys())])\n",
    "\n",
    "\n",
    "# Calculate and print average Gini coefficients\n",
    "avg_train_gini = np.mean(train_gini_scores)\n",
    "avg_test_gini = np.mean(test_gini_scores)\n",
    "\n",
    "print(f\"Average Train Gini: {avg_train_gini:.4f}\")\n",
    "print(f\"Average Test Gini: {avg_test_gini:.4f}\")"
   ]
  },
  {
   "cell_type": "code",
   "execution_count": null,
   "id": "e12a737c",
   "metadata": {},
   "outputs": [],
   "source": []
  },
  {
   "cell_type": "code",
   "execution_count": null,
   "id": "e9c16680",
   "metadata": {},
   "outputs": [],
   "source": []
  }
 ],
 "metadata": {
  "kernelspec": {
   "display_name": "Python 3 (ipykernel)",
   "language": "python",
   "name": "python3"
  },
  "language_info": {
   "codemirror_mode": {
    "name": "ipython",
    "version": 3
   },
   "file_extension": ".py",
   "mimetype": "text/x-python",
   "name": "python",
   "nbconvert_exporter": "python",
   "pygments_lexer": "ipython3",
   "version": "3.9.19"
  }
 },
 "nbformat": 4,
 "nbformat_minor": 5
}
